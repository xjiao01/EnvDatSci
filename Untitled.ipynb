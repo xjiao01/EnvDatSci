{
 "cells": [
  {
   "cell_type": "code",
   "execution_count": 1,
   "id": "4abc10e6-019f-48ae-a4da-5c22492a3882",
   "metadata": {},
   "outputs": [
    {
     "ename": "SyntaxError",
     "evalue": "invalid syntax (1095016910.py, line 1)",
     "output_type": "error",
     "traceback": [
      "\u001b[1;36m  Cell \u001b[1;32mIn[1], line 1\u001b[1;36m\u001b[0m\n\u001b[1;33m    git add CodeSprints\u001b[0m\n\u001b[1;37m        ^\u001b[0m\n\u001b[1;31mSyntaxError\u001b[0m\u001b[1;31m:\u001b[0m invalid syntax\n"
     ]
    }
   ],
   "source": [
    "git add CodeSprints"
   ]
  },
  {
   "cell_type": "code",
   "execution_count": 3,
   "id": "dda3b15e-0b14-4424-8cfd-3eea43b0178a",
   "metadata": {},
   "outputs": [
    {
     "name": "stdout",
     "output_type": "stream",
     "text": [
      "[WinError 2] 系统找不到指定的文件。: 'ode_to_git.txt'\n",
      "D:\\TOOls\\OneDrive - Syracuse University\\cee609\\EnvDatSci\n"
     ]
    }
   ],
   "source": [
    "cd \"ode_to_git.txt\""
   ]
  },
  {
   "cell_type": "code",
   "execution_count": null,
   "id": "2341035c-2424-4de7-9ce1-3b843bfd829b",
   "metadata": {},
   "outputs": [],
   "source": [
    "cd ''"
   ]
  }
 ],
 "metadata": {
  "kernelspec": {
   "display_name": "Python 3 (ipykernel)",
   "language": "python",
   "name": "python3"
  },
  "language_info": {
   "codemirror_mode": {
    "name": "ipython",
    "version": 3
   },
   "file_extension": ".py",
   "mimetype": "text/x-python",
   "name": "python",
   "nbconvert_exporter": "python",
   "pygments_lexer": "ipython3",
   "version": "3.12.4"
  }
 },
 "nbformat": 4,
 "nbformat_minor": 5
}
